{
 "cells": [
  {
   "cell_type": "code",
   "execution_count": 3,
   "metadata": {},
   "outputs": [],
   "source": [
    "import requests\n",
    "from bs4 import BeautifulSoup"
   ]
  },
  {
   "cell_type": "markdown",
   "metadata": {},
   "source": [
    "##### 영화 제목 가져오기"
   ]
  },
  {
   "cell_type": "code",
   "execution_count": 44,
   "metadata": {},
   "outputs": [
    {
     "name": "stdout",
     "output_type": "stream",
     "text": [
      "영화\n",
      "시리즈\n",
      "2설계자2022 ・ 한국예매율 22% ・ 누적 관객 17.1만명\n",
      "cs@watchapedia.co.kr, 02-515-9985\n",
      "https://watcha.team/contact\n",
      "\n",
      "검색\n"
     ]
    }
   ],
   "source": [
    "\n"
   ]
  },
  {
   "cell_type": "code",
   "execution_count": null,
   "metadata": {},
   "outputs": [],
   "source": [
    "# 왓챠피디아\n",
    "url = 'https://pedia.watcha.com/ko-KR/?domain=movie' \n",
    "\n",
    "# 웹 페이지 요청\n",
    "html = requests.get(url).text\n",
    "# print(response.status_code)\n",
    "# print(html)\n",
    "\n",
    "# HTML 파싱\n",
    "bs = BeautifulSoup(html, 'html.parser')\n",
    "\n",
    "# 아이디, 영화 제목, 리뷰, 평점 추출\n",
    "cnt = bs.select('ul > li:nth-child(2) > a')\n",
    "for x in cnt:\n",
    "    print(x.getText())\n",
    "\n",
    "#root > div > div.css-126e3ta-NavContainer.ed8qmey1 > section > div > section > div:nth-child(4) > section > div.css-bsgg5l.ehgi1702 > ul > li:nth-child(1) > a > div.css-1g7cek2.ei3ci1h7 > div.css-hglbkv.ei3ci1h6\n",
    "# titles = []\n",
    "# for block in title_blocks:\n",
    "#   title_value = block.find('span', class_='css-hglbkv ei3ci1h6').get_text(strip=True)\n",
    "#   titles.append(title_value)\n",
    "\n",
    "# print(titles)"
   ]
  },
  {
   "cell_type": "code",
   "execution_count": null,
   "metadata": {},
   "outputs": [],
   "source": [
    "# 왓챠피디아 리뷰 페이지 URL\n",
    "title = quote()\n",
    "url = 'https://pedia.watcha.com/ko-KR/contents/' + title  # 왓챠피디아 상세 페이지\n",
    "headers = {\n",
    "    'User-Agent': 'Mozilla/5.0 (Windows NT 10.0; Win64; x64) AppleWebKit/537.36 (KHTML, like Gecko) Chrome/91.0.4472.124 Safari/537.36'\n",
    "}\n",
    "\n",
    "# 웹 페이지 요청\n",
    "response = requests.get(url, headers=headers)\n",
    "\n",
    "# HTML 파싱\n",
    "soup = BeautifulSoup(response.text, 'html.parser')\n",
    "\n",
    "# 아이디, 영화 제목, 리뷰, 평점 추출\n",
    "review_blocks = soup.find_all('div', class_='review-block')  # 실제 왓챠피디아의 리뷰 블록 클래스 이름으로 변경\n",
    "\n",
    "data = []\n",
    "for block in review_blocks:\n",
    "    user_id = block.find('span', class_='user-id').get_text(strip=True)  # 아이디 추출 (실제 클래스 이름으로 변경)\n",
    "    movie_title = block.find('h1', class_='movie-title').get_text(strip=True)  # 영화 제목 추출 (실제 클래스 이름으로 변경)\n",
    "    review_text = block.find('div', class_='review-text').get_text(strip=True)  # 리뷰 텍스트 추출 (실제 클래스 이름으로 변경)\n",
    "    rating_value = block.find('span', class_='rating').get_text(strip=True)  # 평점 추출 (실제 클래스 이름으로 변경)\n",
    "    \n",
    "    data.append({\n",
    "        'user_id': user_id,\n",
    "        'movie_title': movie_title,\n",
    "        'review': review_text,\n",
    "        'rating': rating_value\n",
    "    })\n",
    "\n",
    "# 데이터 출력\n",
    "for entry in data:\n",
    "    print(f\"User ID: {entry['user_id']}\\nMovie Title: {entry['movie_title']}\\nReview: {entry['review']}\\nRating: {entry['rating']}\\n\")\n",
    "\n",
    "# 데이터 저장 (예: CSV 파일로 저장)\n",
    "import csv\n",
    "\n",
    "with open('watcha_reviews.csv', 'w', newline='', encoding='utf-8') as csvfile:\n",
    "    fieldnames = ['user_id', 'movie_title', 'review', 'rating']\n",
    "    writer = csv.DictWriter(csvfile, fieldnames=fieldnames)\n",
    "    \n",
    "    writer.writeheader()\n",
    "    for entry in data:\n",
    "        writer.writerow(entry)"
   ]
  }
 ],
 "metadata": {
  "kernelspec": {
   "display_name": "base",
   "language": "python",
   "name": "python3"
  },
  "language_info": {
   "codemirror_mode": {
    "name": "ipython",
    "version": 3
   },
   "file_extension": ".py",
   "mimetype": "text/x-python",
   "name": "python",
   "nbconvert_exporter": "python",
   "pygments_lexer": "ipython3",
   "version": "3.11.5"
  }
 },
 "nbformat": 4,
 "nbformat_minor": 2
}
