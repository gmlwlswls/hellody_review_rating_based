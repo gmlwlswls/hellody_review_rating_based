{
 "cells": [
  {
   "cell_type": "code",
   "execution_count": 134,
   "metadata": {},
   "outputs": [],
   "source": [
    "import pandas as pd\n",
    "import numpy as np\n",
    "import surprise\n",
    "from sklearn.model_selection import train_test_split\n",
    "from surprise.model_selection import GridSearchCV\n",
    "from surprise import Reader, Dataset, accuracy, SVD"
   ]
  },
  {
   "cell_type": "code",
   "execution_count": 147,
   "metadata": {},
   "outputs": [],
   "source": [
    "# 데이터 로드 및 전처리\n",
    "df = pd.read_csv('../df.csv')\n",
    "df.reset_index(inplace=True, drop=True)\n",
    "df = df[['user_id', 'movie_id', 'rating']]\n",
    "df = df[:50000]\n",
    "train, test = train_test_split(df, test_size= 0.2, random_state= 42)\n",
    "\n",
    "reader = Reader(rating_scale=(1, 10))\n",
    "data = Dataset.load_from_df(df, reader)\n",
    "traindata = Dataset.load_from_df(train, reader)\n",
    "testdata = Dataset.load_from_df(test, reader)"
   ]
  },
  {
   "cell_type": "markdown",
   "metadata": {},
   "source": [
    "SVD"
   ]
  },
  {
   "cell_type": "code",
   "execution_count": 154,
   "metadata": {},
   "outputs": [
    {
     "name": "stdout",
     "output_type": "stream",
     "text": [
      "{'n_factors': 70, 'n_epochs': 10, 'reg_all': 0.05, 'lr_all': 0.01}\n"
     ]
    }
   ],
   "source": [
    "param_grid = {'n_factors' : [70, 100, 130], 'n_epochs' : [10, 20, 40], 'reg_all' : [0.05, 0.1],\n",
    "              'lr_all' : [0.01, 0.05, 0.5]} #best params > n_ecpochs = 10, lr_allkiuy = 0.01\n",
    "grid_search = GridSearchCV(SVD, param_grid, measures= ['RMSE'], cv= 5, n_jobs= -1)\n",
    "grid_search.fit(traindata)\n",
    "\n",
    "print(grid_search.best_params['rmse'])"
   ]
  },
  {
   "cell_type": "code",
   "execution_count": 152,
   "metadata": {},
   "outputs": [
    {
     "ename": "AttributeError",
     "evalue": "'DatasetAutoFolds' object has no attribute 'n_users'",
     "output_type": "error",
     "traceback": [
      "\u001b[1;31m---------------------------------------------------------------------------\u001b[0m",
      "\u001b[1;31mAttributeError\u001b[0m                            Traceback (most recent call last)",
      "Cell \u001b[1;32mIn[152], line 3\u001b[0m\n\u001b[0;32m      1\u001b[0m traindata \u001b[38;5;241m=\u001b[39m Dataset\u001b[38;5;241m.\u001b[39mload_from_df(train, reader)\n\u001b[0;32m      2\u001b[0m best_algo \u001b[38;5;241m=\u001b[39m grid_search\u001b[38;5;241m.\u001b[39mbest_estimator[\u001b[38;5;124m'\u001b[39m\u001b[38;5;124mrmse\u001b[39m\u001b[38;5;124m'\u001b[39m]\n\u001b[1;32m----> 3\u001b[0m best_algo\u001b[38;5;241m.\u001b[39mfit(traindata)\n\u001b[0;32m      5\u001b[0m testset \u001b[38;5;241m=\u001b[39m testdata\u001b[38;5;241m.\u001b[39mbuild_full_trainset()\n\u001b[0;32m      6\u001b[0m \u001b[38;5;66;03m# testset_test = testset_full.build_testset()\u001b[39;00m\n",
      "File \u001b[1;32mc:\\Users\\USER\\anaconda3\\Lib\\site-packages\\surprise\\prediction_algorithms\\matrix_factorization.pyx:155\u001b[0m, in \u001b[0;36msurprise.prediction_algorithms.matrix_factorization.SVD.fit\u001b[1;34m()\u001b[0m\n",
      "File \u001b[1;32mc:\\Users\\USER\\anaconda3\\Lib\\site-packages\\surprise\\prediction_algorithms\\matrix_factorization.pyx:196\u001b[0m, in \u001b[0;36msurprise.prediction_algorithms.matrix_factorization.SVD.sgd\u001b[1;34m()\u001b[0m\n",
      "\u001b[1;31mAttributeError\u001b[0m: 'DatasetAutoFolds' object has no attribute 'n_users'"
     ]
    }
   ],
   "source": [
    "traindata = Dataset.load_from_df(train, reader)\n",
    "best_algo = grid_search.best_estimator['rmse']\n",
    "best_algo.fit(traindata)\n",
    "\n",
    "testset = testdata.build_full_trainset()\n",
    "# testset_test = testset_full.build_testset()\n",
    "predictions = best_algo.test(testset)\n",
    "\n",
    "# RMSE 출력\n",
    "rmse = accuracy.rmse(predictions)\n",
    "print(f'Test RMSE : {rmse}')"
   ]
  },
  {
   "cell_type": "code",
   "execution_count": 132,
   "metadata": {},
   "outputs": [
    {
     "name": "stdout",
     "output_type": "stream",
     "text": [
      "[(10002, 10), (100022, 10), (10004, 10), (10005, 10), (10006, 10), (10016, 10), (10018, 10), (10020, 10), (10028, 10), (10035, 10)]\n"
     ]
    }
   ],
   "source": [
    "user_rated_movies = df[df['user_id']== 2]['movie_id'].tolist()\n",
    "all_movies = df['movie_id'].unique()\n",
    "# all_movies\n",
    "unrated_movies = [movie for movie in all_movies if movie not in user_rated_movies]\n",
    "# unrated_movies\n",
    "\n",
    "predictions = [best_algo.predict(2, movie) for movie in unrated_movies]\n",
    "predictions.sort(key = lambda x : x.est, reverse = True) # 예상 평점 기준 정렬\n",
    "\n",
    "top_n_recommendations = predictions[:10]\n",
    "top_n_recommendations\n",
    "\n",
    "list = [(pred.iid, pred.est) for pred in top_n_recommendations]\n",
    "print(list)"
   ]
  },
  {
   "cell_type": "code",
   "execution_count": 141,
   "metadata": {},
   "outputs": [],
   "source": [
    "# 특정 사용자에 대한 영화 추천 함수\n",
    "def get_recommendations(algo, user_id, df, n=20):\n",
    "    # 사용자가 평가하지 않은 영화 목록 생성\n",
    "    user_rated_movies = df[df['user_id'] == user_id]['movie_id'].tolist()\n",
    "    all_movies = df['movie_id'].unique()\n",
    "    unrated_movies = [movie for movie in all_movies if movie not in user_rated_movies]\n",
    "    \n",
    "    # 예상 평점 계산\n",
    "    predictions = [algo.predict(user_id, movie) for movie in unrated_movies]\n",
    "    predictions.sort(key=lambda x: x.est, reverse=True) #예상 평점 기준 정렬\n",
    "    \n",
    "    # 상위 n개의 영화 추천\n",
    "    top_n_recommendations = predictions[:n]\n",
    "    return [(pred.iid, pred.est, pred.r_ui, pred.details) for pred in top_n_recommendations] # (영화id, 예상 평점)"
   ]
  },
  {
   "cell_type": "code",
   "execution_count": 145,
   "metadata": {},
   "outputs": [
    {
     "name": "stdout",
     "output_type": "stream",
     "text": [
      "추천된 영화 목록:\n",
      "영화 ID: 10002, 예상 평점: 10\n",
      "영화 ID: 100022, 예상 평점: 10\n",
      "영화 ID: 10004, 예상 평점: 10\n",
      "영화 ID: 10005, 예상 평점: 10\n",
      "영화 ID: 10006, 예상 평점: 10\n",
      "영화 ID: 10016, 예상 평점: 10\n",
      "영화 ID: 10018, 예상 평점: 10\n",
      "영화 ID: 10020, 예상 평점: 10\n",
      "영화 ID: 10028, 예상 평점: 10\n",
      "영화 ID: 10035, 예상 평점: 10\n",
      "영화 ID: 10038, 예상 평점: 10\n",
      "영화 ID: 100399, 예상 평점: 10\n",
      "영화 ID: 10047, 예상 평점: 10\n",
      "영화 ID: 10048, 예상 평점: 10\n",
      "영화 ID: 10061, 예상 평점: 10\n",
      "영화 ID: 100825, 예상 평점: 10\n",
      "영화 ID: 10092, 예상 평점: 10\n",
      "영화 ID: 10102, 예상 평점: 10\n",
      "영화 ID: 10105, 예상 평점: 10\n",
      "영화 ID: 10110, 예상 평점: 10\n"
     ]
    }
   ],
   "source": [
    "# 사용자 ID에 대한 추천 영화 목록 출력\n",
    "user_id = 2  \n",
    "recommended_movies = get_recommendations(best_algo, user_id, df, n=20)\n",
    "print(\"추천된 영화 목록:\")\n",
    "for movie_id, est_rating, real_ratings, details in recommended_movies:\n",
    "    print(f\"영화 ID: {movie_id}, 예상 평점: {est_rating}\")"
   ]
  },
  {
   "cell_type": "markdown",
   "metadata": {},
   "source": [
    "lightFM"
   ]
  },
  {
   "cell_type": "markdown",
   "metadata": {},
   "source": [
    "###### 컨텐츠 기반 + 협업 필터링"
   ]
  }
 ],
 "metadata": {
  "kernelspec": {
   "display_name": "base",
   "language": "python",
   "name": "python3"
  },
  "language_info": {
   "codemirror_mode": {
    "name": "ipython",
    "version": 3
   },
   "file_extension": ".py",
   "mimetype": "text/x-python",
   "name": "python",
   "nbconvert_exporter": "python",
   "pygments_lexer": "ipython3",
   "version": "3.11.9"
  }
 },
 "nbformat": 4,
 "nbformat_minor": 2
}
