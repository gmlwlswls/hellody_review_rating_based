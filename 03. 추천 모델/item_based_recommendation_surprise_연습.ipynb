{
 "cells": [
  {
   "cell_type": "code",
   "execution_count": 3,
   "metadata": {},
   "outputs": [],
   "source": [
    "from surprise import Reader, Dataset, KNNWithMeans, accuracy\n",
    "from surprise.model_selection import train_test_split\n",
    "import pandas as pd\n",
    "import numpy as np"
   ]
  },
  {
   "cell_type": "code",
   "execution_count": 4,
   "metadata": {},
   "outputs": [
    {
     "name": "stdout",
     "output_type": "stream",
     "text": [
      "Estimating biases using als...\n",
      "Computing the pearson_baseline similarity matrix...\n",
      "Done computing similarity matrix.\n",
      "Item-based Model : Test Set\n",
      "RMSE: 2.6305\n",
      "추천된 영화 목록:\n",
      "영화 ID: 10002, 예상 평점: 10\n",
      "영화 ID: 100069, 예상 평점: 10\n",
      "영화 ID: 10008, 예상 평점: 10\n",
      "영화 ID: 10016, 예상 평점: 10\n",
      "영화 ID: 10022, 예상 평점: 10\n",
      "영화 ID: 10024, 예상 평점: 10\n",
      "영화 ID: 10038, 예상 평점: 10\n",
      "영화 ID: 10047, 예상 평점: 10\n",
      "영화 ID: 100642, 예상 평점: 10\n",
      "영화 ID: 10070, 예상 평점: 10\n",
      "영화 ID: 10071, 예상 평점: 10\n",
      "영화 ID: 10072, 예상 평점: 10\n",
      "영화 ID: 10040, 예상 평점: 9.969215291750503\n",
      "영화 ID: 100730, 예상 평점: 9.948508903668742\n",
      "영화 ID: 10046, 예상 평점: 9.923660714285715\n",
      "영화 ID: 100825, 예상 평점: 9.919354838709678\n",
      "영화 ID: 10050, 예상 평점: 9.853246753246754\n",
      "영화 ID: 100399, 예상 평점: 9.85135135135135\n",
      "영화 ID: 10014, 예상 평점: 9.82943722943723\n",
      "영화 ID: 10033, 예상 평점: 9.814285714285715\n"
     ]
    }
   ],
   "source": [
    "# 데이터 로드 및 전처리\n",
    "df = pd.read_csv('../df.csv')\n",
    "df.reset_index(inplace=True, drop=True)\n",
    "df = df[['user_id', 'movie_id', 'rating']]\n",
    "df = df[:10000]\n",
    "\n",
    "# 평점 범위를 1~10으로 설정\n",
    "reader = Reader(rating_scale=(1, 10))\n",
    "data = Dataset.load_from_df(df, reader)\n",
    "\n",
    "# 학습 및 테스트 데이터셋 분리\n",
    "trainset, testset = train_test_split(data, test_size=0.3, random_state=10)\n",
    "\n",
    "# KNN 모델 학습\n",
    "algo = KNNWithMeans(k=20, sim_options={'name': 'pearson_baseline', 'user_based': False})\n",
    "algo.fit(trainset)\n",
    "\n",
    "# 테스트 데이터셋으로 예측 및 RMSE 계산\n",
    "test_pred = algo.test(testset)\n",
    "print(\"Item-based Model : Test Set\")\n",
    "accuracy.rmse(test_pred, verbose=True)\n",
    "\n",
    "# 특정 사용자에 대한 영화 추천 함수\n",
    "def get_recommendations(algo, user_id, df, n=20):\n",
    "    # 사용자가 평가하지 않은 영화 목록 생성\n",
    "    user_rated_movies = df[df['user_id'] == user_id]['movie_id'].tolist()\n",
    "    all_movies = df['movie_id'].unique()\n",
    "    unrated_movies = [movie for movie in all_movies if movie not in user_rated_movies]\n",
    "    \n",
    "    # 예상 평점 계산\n",
    "    predictions = [algo.predict(user_id, movie) for movie in unrated_movies]\n",
    "    predictions.sort(key=lambda x: x.est, reverse=True) #예상 평점 기준 정렬\n",
    "    \n",
    "    # 상위 n개의 영화 추천\n",
    "    top_n_recommendations = predictions[:n]\n",
    "    return [(pred.iid, pred.est) for pred in top_n_recommendations] # (영화id, 예상 평점)\n",
    "\n",
    "# 사용자 ID에 대한 추천 영화 목록 출력\n",
    "user_id = 2  \n",
    "recommended_movies = get_recommendations(algo, user_id, df, n=20)\n",
    "print(\"추천된 영화 목록:\")\n",
    "for movie_id, est_rating in recommended_movies:\n",
    "    print(f\"영화 ID: {movie_id}, 예상 평점: {est_rating}\")"
   ]
  }
 ],
 "metadata": {
  "kernelspec": {
   "display_name": "base",
   "language": "python",
   "name": "python3"
  },
  "language_info": {
   "codemirror_mode": {
    "name": "ipython",
    "version": 3
   },
   "file_extension": ".py",
   "mimetype": "text/x-python",
   "name": "python",
   "nbconvert_exporter": "python",
   "pygments_lexer": "ipython3",
   "version": "3.11.9"
  }
 },
 "nbformat": 4,
 "nbformat_minor": 2
}
