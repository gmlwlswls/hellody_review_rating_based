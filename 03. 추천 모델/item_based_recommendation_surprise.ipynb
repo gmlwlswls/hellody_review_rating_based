{
 "cells": [
  {
   "cell_type": "code",
   "execution_count": 8,
   "metadata": {},
   "outputs": [],
   "source": [
    "from surprise import Reader, Dataset, KNNWithMeans, accuracy\n",
    "from surprise.model_selection import GridSearchCV\n",
    "import pandas as pd\n",
    "import numpy as np"
   ]
  },
  {
   "cell_type": "code",
   "execution_count": 4,
   "metadata": {},
   "outputs": [],
   "source": [
    "from sklearn.model_selection import train_test_split\n",
    "\n",
    "# 데이터 로드 및 전처리\n",
    "df = pd.read_csv('../df.csv')\n",
    "df.reset_index(inplace=True, drop=True)\n",
    "df = df[['user_id', 'movie_id', 'rating']]\n",
    "df = df[:10000]\n",
    "train, test = train_test_split(df, test_size=0.2, random_state=42)\n",
    "\n",
    "# 평점 범위를 1~10으로 설정\n",
    "# 학습 및 테스트 데이터셋 분리\n",
    "reader = Reader(rating_scale=(1, 10))\n",
    "traindata = Dataset.load_from_df(train, reader)\n",
    "testdata = Dataset.load_from_df(test, reader)\n",
    "trainset = traindata.build_full_trainset()\n",
    "testset = testdata.build_full_trainset().build_testset()"
   ]
  },
  {
   "cell_type": "code",
   "execution_count": 37,
   "metadata": {},
   "outputs": [],
   "source": [
    "# 특정 사용자에 대한 영화 추천 함수\n",
    "def get_recommendations(algo, user_id, df, n=20):\n",
    "    # 사용자가 평가하지 않은 영화 목록 생성\n",
    "    user_rated_movies = df[df['user_id'] == user_id]['movie_id'].tolist()\n",
    "    all_movies = df['movie_id'].unique()\n",
    "    unrated_movies = [movie for movie in all_movies if movie not in user_rated_movies]\n",
    "    \n",
    "    # 예상 평점 계산\n",
    "    predictions = [algo.predict(user_id, movie) for movie in unrated_movies]\n",
    "    predictions.sort(key=lambda x: x.est, reverse=True) #예상 평점 기준 정렬\n",
    "    \n",
    "    # 상위 n개의 영화 추천\n",
    "    top_n_recommendations = predictions[:n]\n",
    "    return [(pred.iid, pred.est) for pred in top_n_recommendations] # (영화id, 예상 평점)"
   ]
  },
  {
   "cell_type": "markdown",
   "metadata": {},
   "source": [
    "KNNWithMeans"
   ]
  },
  {
   "cell_type": "markdown",
   "metadata": {},
   "source": [
    "###### knnwithmeans - gridsearch"
   ]
  },
  {
   "cell_type": "code",
   "execution_count": 35,
   "metadata": {},
   "outputs": [
    {
     "name": "stdout",
     "output_type": "stream",
     "text": [
      "Best RMSE score:  2.5307982523722172\n",
      "Best parameters:  {'k': 20, 'sim_options': {'name': 'pearson_baseline', 'user_based': False}}\n"
     ]
    }
   ],
   "source": [
    "from surprise import Dataset, Reader, KNNWithMeans\n",
    "\n",
    "# 하이퍼파라미터 그리드 설정\n",
    "param_grid = {\n",
    "    'k': [5, 10, 20, 30, 40, 50],  # 이웃 수\n",
    "    'sim_options': {\n",
    "        'name': ['pearson_baseline'],\n",
    "        'user_based': [False]\n",
    "    }\n",
    "}\n",
    "\n",
    "# GridSearchCV를 사용하여 최적의 하이퍼파라미터 찾기\n",
    "gs = GridSearchCV(KNNWithMeans, param_grid, measures=['rmse'], cv=5, n_jobs=-1) # 5-폴드 교차 검증\n",
    "gs.fit(traindata)\n",
    "\n",
    "# 최적의 하이퍼파라미터와 해당 성능 출력\n",
    "print(\"Best RMSE score: \", gs.best_score['rmse'])\n",
    "print(\"Best parameters: \", gs.best_params['rmse'])"
   ]
  },
  {
   "cell_type": "code",
   "execution_count": 36,
   "metadata": {},
   "outputs": [
    {
     "name": "stdout",
     "output_type": "stream",
     "text": [
      "Estimating biases using als...\n",
      "Computing the pearson_baseline similarity matrix...\n",
      "Done computing similarity matrix.\n",
      "Item-based Model : Test Set\n",
      "RMSE: 2.5873\n"
     ]
    },
    {
     "data": {
      "text/plain": [
       "2.5872518512214233"
      ]
     },
     "execution_count": 36,
     "metadata": {},
     "output_type": "execute_result"
    }
   ],
   "source": [
    "# KNN 모델 학습\n",
    "algo = KNNWithMeans(k=20, sim_options={'name': 'pearson_baseline', 'user_based': False})\n",
    "algo.fit(trainset)\n",
    "\n",
    "# 테스트 데이터셋으로 예측 및 RMSE 계산\n",
    "test_pred = algo.test(testset)\n",
    "print(\"Item-based Model : Test Set\")\n",
    "accuracy.rmse(test_pred, verbose=True)"
   ]
  },
  {
   "cell_type": "code",
   "execution_count": 38,
   "metadata": {},
   "outputs": [
    {
     "name": "stdout",
     "output_type": "stream",
     "text": [
      "추천된 영화 목록:\n",
      "영화 ID: 10016, 예상 평점: 10\n",
      "영화 ID: 10038, 예상 평점: 10\n",
      "영화 ID: 100398, 예상 평점: 10\n",
      "영화 ID: 100619, 예상 평점: 10\n",
      "영화 ID: 100825, 예상 평점: 10\n",
      "영화 ID: 10072, 예상 평점: 9.99134199134199\n",
      "영화 ID: 100639, 예상 평점: 9.926941399458258\n",
      "영화 ID: 10021, 예상 평점: 9.91324200913242\n",
      "영화 ID: 10004, 예상 평점: 9.895684803001878\n",
      "영화 ID: 10015, 예상 평점: 9.884915084915086\n",
      "영화 ID: 100399, 예상 평점: 9.843373493975903\n",
      "영화 ID: 10047, 예상 평점: 9.841666666666667\n",
      "영화 ID: 10006, 예상 평점: 9.837398373983739\n",
      "영화 ID: 10040, 예상 평점: 9.78714859437751\n",
      "영화 ID: 10039, 예상 평점: 9.771929824561402\n",
      "영화 ID: 10019, 예상 평점: 9.715447154471544\n",
      "영화 ID: 10050, 예상 평점: 9.666666666666666\n",
      "영화 ID: 10002, 예상 평점: 9.65\n",
      "영화 ID: 10058, 예상 평점: 9.6375\n",
      "영화 ID: 100356, 예상 평점: 9.594871794871796\n"
     ]
    }
   ],
   "source": [
    "# 사용자 ID에 대한 추천 영화 목록 출력\n",
    "user_id = 2  \n",
    "recommended_movies = get_recommendations(algo, user_id, df, n=20)\n",
    "print(\"추천된 영화 목록:\")\n",
    "for movie_id, est_rating in recommended_movies:\n",
    "    print(f\"영화 ID: {movie_id}, 예상 평점: {est_rating}\")"
   ]
  },
  {
   "cell_type": "markdown",
   "metadata": {},
   "source": [
    "KNNBaseline"
   ]
  },
  {
   "cell_type": "markdown",
   "metadata": {},
   "source": [
    "###### knnbaseline - gridsearch"
   ]
  },
  {
   "cell_type": "code",
   "execution_count": 26,
   "metadata": {},
   "outputs": [
    {
     "name": "stdout",
     "output_type": "stream",
     "text": [
      "Best RMSE score:  2.276919103521916\n",
      "Best parameters:  {'k': 10, 'sim_options': {'name': 'pearson_baseline', 'user_based': False}, 'bsl_options': {'method': 'sgd', 'n_epochs': 60, 'reg_u': 10, 'reg_i': 5}}\n"
     ]
    }
   ],
   "source": [
    "from surprise import Dataset, Reader, KNNBaseline\n",
    "\n",
    "# 하이퍼파라미터 그리드 설정\n",
    "param_grid = {\n",
    "    'k': [5, 10, 20, 30, 40, 50],  # 이웃 수\n",
    "    'sim_options': {\n",
    "        'name': ['pearson_baseline'],\n",
    "        'user_based': [False]\n",
    "    },\n",
    "    'bsl_options': {\n",
    "        'method': ['als', 'sgd'],\n",
    "        'n_epochs': [60,70,80,90,100],\n",
    "        'reg_u': [10, 15],\n",
    "        'reg_i': [5, 10]\n",
    "    }\n",
    "}\n",
    "\n",
    "# GridSearchCV를 사용하여 최적의 하이퍼파라미터 찾기\n",
    "gs = GridSearchCV(KNNBaseline, param_grid, measures=['rmse'], cv=5, n_jobs=-1) # 5-폴드 교차 검증\n",
    "gs.fit(traindata)\n",
    "\n",
    "# 최적의 하이퍼파라미터와 해당 성능 출력\n",
    "print(\"Best RMSE score: \", gs.best_score['rmse'])\n",
    "print(\"Best parameters: \", gs.best_params['rmse'])"
   ]
  },
  {
   "cell_type": "code",
   "execution_count": 29,
   "metadata": {},
   "outputs": [
    {
     "name": "stdout",
     "output_type": "stream",
     "text": [
      "Estimating biases using sgd...\n",
      "Computing the pearson_baseline similarity matrix...\n",
      "Done computing similarity matrix.\n",
      "Item-based Model : Test Set\n",
      "RMSE: 2.3003\n"
     ]
    },
    {
     "data": {
      "text/plain": [
       "2.3003212711139778"
      ]
     },
     "execution_count": 29,
     "metadata": {},
     "output_type": "execute_result"
    }
   ],
   "source": [
    "sim_options = {'name': 'pearson_baseline', 'user_based': False}\n",
    "bsl_options = {'method': 'sgd', 'n_epochs': 60, 'reg_u': 10, 'reg_i': 5}\n",
    "algo = KNNBaseline(k=10, sim_options=sim_options, bsl_options=bsl_options)\n",
    "algo.fit(trainset)\n",
    "\n",
    "# 테스트 데이터셋으로 예측 및 RMSE 계산\n",
    "test_pred = algo.test(testset)\n",
    "print(\"Item-based Model : Test Set\")\n",
    "accuracy.rmse(test_pred, verbose=True)"
   ]
  },
  {
   "cell_type": "code",
   "execution_count": 33,
   "metadata": {},
   "outputs": [
    {
     "name": "stdout",
     "output_type": "stream",
     "text": [
      "추천된 영화 목록:\n",
      "영화 ID: 10002, 예상 평점: 10\n",
      "영화 ID: 10004, 예상 평점: 10\n",
      "영화 ID: 10012, 예상 평점: 10\n",
      "영화 ID: 10015, 예상 평점: 10\n",
      "영화 ID: 10016, 예상 평점: 10\n",
      "영화 ID: 10021, 예상 평점: 10\n",
      "영화 ID: 100356, 예상 평점: 10\n",
      "영화 ID: 10038, 예상 평점: 10\n",
      "영화 ID: 100398, 예상 평점: 10\n",
      "영화 ID: 100399, 예상 평점: 10\n",
      "영화 ID: 10047, 예상 평점: 10\n",
      "영화 ID: 10048, 예상 평점: 10\n",
      "영화 ID: 10058, 예상 평점: 10\n",
      "영화 ID: 100619, 예상 평점: 10\n",
      "영화 ID: 100639, 예상 평점: 10\n",
      "영화 ID: 10072, 예상 평점: 10\n",
      "영화 ID: 100825, 예상 평점: 10\n",
      "영화 ID: 10040, 예상 평점: 9.988759364002147\n",
      "영화 ID: 10019, 예상 평점: 9.987716253905997\n",
      "영화 ID: 10028, 예상 평점: 9.987189013757408\n"
     ]
    }
   ],
   "source": [
    "# 사용자 ID에 대한 추천 영화 목록 출력\n",
    "user_id = 2  \n",
    "recommended_movies = get_recommendations(algo, user_id, df, n=20)\n",
    "print(\"추천된 영화 목록:\")\n",
    "for movie_id, est_rating in recommended_movies:\n",
    "    print(f\"영화 ID: {movie_id}, 예상 평점: {est_rating}\")"
   ]
  },
  {
   "cell_type": "markdown",
   "metadata": {},
   "source": [
    "###### 아이템 유사도 + 협업 필터링"
   ]
  },
  {
   "cell_type": "code",
   "execution_count": null,
   "metadata": {},
   "outputs": [],
   "source": [
    "# import pandas as pd\n",
    "# from sklearn.feature_extraction.text import TfidfVectorizer\n",
    "# from sklearn.metrics.pairwise import cosine_similarity\n",
    "\n",
    "# # 영화 데이터 로드\n",
    "# movies_df = pd.read_csv('movies.csv')\n",
    "\n",
    "# # 아이템 간의 유사도 계산을 위해 TF-IDF 벡터화\n",
    "# tfidf = TfidfVectorizer(stop_words='english')\n",
    "# tfidf_matrix = tfidf.fit_transform(movies_df['genres'].fillna(''))\n",
    "\n",
    "# # 코사인 유사도 계산\n",
    "# item_similarity = cosine_similarity(tfidf_matrix, tfidf_matrix)\n",
    "\n",
    "# # 아이템 간의 유사도 행렬 출력\n",
    "# print(item_similarity)"
   ]
  },
  {
   "cell_type": "code",
   "execution_count": null,
   "metadata": {},
   "outputs": [],
   "source": [
    "# import numpy as np\n",
    "\n",
    "# def item_based_collaborative_filtering(user_item_matrix, item_similarity_matrix, n_recommendations=5):\n",
    "#     # 유사도 행렬과 사용자 선호도 행렬을 곱하여 예측 평점 행렬 계산\n",
    "#     pred_ratings = np.dot(user_item_matrix, item_similarity_matrix) / np.sum(item_similarity_matrix, axis=1)\n",
    "    \n",
    "#     # 사용자가 이미 평가한 아이템은 제외\n",
    "#     pred_ratings[user_item_matrix.nonzero()] = 0\n",
    "    \n",
    "#     # 각 사용자에 대해 상위 N개의 아이템 추천\n",
    "#     top_n_recommendations = np.argsort(-pred_ratings, axis=1)[:, :n_recommendations]\n",
    "    \n",
    "#     return top_n_recommendations\n",
    "\n",
    "# # 예시: 아이템 기반 협업 필터링 수행\n",
    "# user_item_matrix = ...  # 사용자-아이템 행렬\n",
    "# item_similarity_matrix = ...  # 아이템-아이템 유사도 행렬\n",
    "\n",
    "# recommendations = item_based_collaborative_filtering(user_item_matrix, item_similarity_matrix)\n",
    "# print(recommendations)"
   ]
  }
 ],
 "metadata": {
  "kernelspec": {
   "display_name": "base",
   "language": "python",
   "name": "python3"
  },
  "language_info": {
   "codemirror_mode": {
    "name": "ipython",
    "version": 3
   },
   "file_extension": ".py",
   "mimetype": "text/x-python",
   "name": "python",
   "nbconvert_exporter": "python",
   "pygments_lexer": "ipython3",
   "version": "3.11.9"
  }
 },
 "nbformat": 4,
 "nbformat_minor": 2
}
