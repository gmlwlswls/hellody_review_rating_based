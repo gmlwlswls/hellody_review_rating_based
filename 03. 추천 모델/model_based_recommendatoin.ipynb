{
 "cells": [
  {
   "cell_type": "code",
   "execution_count": 21,
   "metadata": {},
   "outputs": [],
   "source": [
    "import pandas as pd\n",
    "import numpy as np\n",
    "from sklearn.decomposition import TruncatedSVD\n",
    "from sklearn.metrics import mean_squared_error\n",
    "from math import sqrt\n",
    "from surprise import Dataset, Reader \n",
    "from surprise.model_selection import train_test_split\n"
   ]
  },
  {
   "cell_type": "code",
   "execution_count": 45,
   "metadata": {},
   "outputs": [],
   "source": [
    "# 데이터 로드 및 전처리\n",
    "df = pd.read_csv('../df.csv')\n",
    "df.reset_index(inplace=True, drop=True)\n",
    "df = df[['user_id', 'movie_id', 'rating']]\n",
    "df = df[:10000]\n",
    "\n",
    "# 평점 범위를 1~10으로 설정\n",
    "reader = Reader(rating_scale=(1, 10))\n",
    "data = Dataset.load_from_df(df, reader)\n",
    "\n",
    "# 학습 및 테스트 데이터셋 분리\n",
    "trainset, testset = train_test_split(data, test_size=0.2, random_state=10)"
   ]
  },
  {
   "cell_type": "markdown",
   "metadata": {},
   "source": [
    "SVD"
   ]
  },
  {
   "cell_type": "code",
   "execution_count": 44,
   "metadata": {},
   "outputs": [],
   "source": [
    "from surprise import SVD, Dataset,  accuracy, Reader\n",
    "from surprise.model_selection import cross_validate, GridSearchCV"
   ]
  },
  {
   "cell_type": "code",
   "execution_count": 65,
   "metadata": {},
   "outputs": [],
   "source": [
    "# #연습\n",
    "# algo = SVD( n_factors= 10, random_state= 42)\n",
    "# algo.fit(trainset)\n",
    "\n",
    "# prediction = algo.test(testset)\n",
    "# accuracy.rmse(prediction)\n",
    "# print('prediction type :', type(prediction),\n",
    "#       'size :', len(prediction))\n",
    "# print()\n",
    "# print('predictino 결과값 5개 미리보기')\n",
    "# print(prediction[:5])\n",
    "\n",
    "# result = [(pred.uid, pred.iid, pred.est) for pred in prediction[ :5]]\n",
    "# print(result)\n",
    "\n",
    "# cross_validate(algo, data, measures= ['RMSE', 'MAE'], cv=5, verbose= True)"
   ]
  },
  {
   "cell_type": "code",
   "execution_count": 34,
   "metadata": {},
   "outputs": [
    {
     "name": "stdout",
     "output_type": "stream",
     "text": [
      "2.2658101884260673\n",
      "{'n_epochs': 30, 'n_factors': 10}\n"
     ]
    }
   ],
   "source": [
    "param_grid = {'n_epochs' : [20, 30, 40], 'n_factors' : [10, 20, 30, 40, 50, 100, 200]}\n",
    "\n",
    "grid = GridSearchCV(SVD, param_grid = param_grid, measures= ['rmse', 'mse'], cv= 3)\n",
    "\n",
    "grid.fit(data)\n",
    "\n",
    "print(grid.best_score['rmse'])\n",
    "print(grid.best_params['rmse'])\n"
   ]
  },
  {
   "cell_type": "code",
   "execution_count": 35,
   "metadata": {},
   "outputs": [
    {
     "name": "stdout",
     "output_type": "stream",
     "text": [
      "2.250357091930385\n",
      "{'n_epochs': 30, 'n_factors': 1}\n"
     ]
    }
   ],
   "source": [
    "param_grid = {'n_epochs' : [20, 30, 40], 'n_factors' : [1, 2, 3, 4, 5, 10]}\n",
    "\n",
    "grid = GridSearchCV(SVD, param_grid = param_grid, measures= ['rmse', 'mse'], cv= 3)\n",
    "\n",
    "grid.fit(data)\n",
    "\n",
    "print(grid.best_score['rmse'])\n",
    "print(grid.best_params['rmse'])"
   ]
  },
  {
   "cell_type": "code",
   "execution_count": 62,
   "metadata": {},
   "outputs": [
    {
     "data": {
      "text/plain": [
       "<surprise.prediction_algorithms.matrix_factorization.SVD at 0x19ea93baf10>"
      ]
     },
     "execution_count": 62,
     "metadata": {},
     "output_type": "execute_result"
    }
   ],
   "source": [
    "algo = SVD(n_factors = 1, n_epochs = 30, random_state= 42)\n",
    "algo.fit(trainset)"
   ]
  },
  {
   "cell_type": "code",
   "execution_count": 70,
   "metadata": {},
   "outputs": [
    {
     "name": "stdout",
     "output_type": "stream",
     "text": [
      "[(8, 10.0), (115, 10.0), (68, 10.0)]\n"
     ]
    }
   ],
   "source": [
    "user_id = 9\n",
    "\n",
    "# 특정 사용자가 평가한 영화 정보\n",
    "user_movies = trainset.ur[user_id]\n",
    "print(user_movies)"
   ]
  },
  {
   "cell_type": "code",
   "execution_count": 72,
   "metadata": {},
   "outputs": [
    {
     "name": "stdout",
     "output_type": "stream",
     "text": [
      "8\n",
      "10.0\n",
      "115\n",
      "10.0\n",
      "68\n",
      "10.0\n"
     ]
    }
   ],
   "source": [
    "for id, rating in user_movies :\n",
    "  print(id)\n",
    "  print(rating)"
   ]
  },
  {
   "cell_type": "markdown",
   "metadata": {},
   "source": [
    "SVD"
   ]
  },
  {
   "cell_type": "code",
   "execution_count": 55,
   "metadata": {},
   "outputs": [
    {
     "name": "stdout",
     "output_type": "stream",
     "text": [
      "[8, 115, 68]\n"
     ]
    }
   ],
   "source": [
    "# 사용자가 본 영화 ID 목록\n",
    "movie_ids = [movie_id for (movie_id, _) in user_movies]\n",
    "\n",
    "# 사용자가 본 영화 ID 목록 출력\n",
    "print(movie_ids)\n",
    "\n",
    "if 115 not in movie_ids :\n",
    "    print('user_id 가 9인 사람은 movie_id = 42 에 대한 평점이 없음')"
   ]
  },
  {
   "cell_type": "code",
   "execution_count": 58,
   "metadata": {},
   "outputs": [],
   "source": [
    "def get_unseen_surprise(user_id) :\n",
    "  #특정 유저가 본 movie_id들을 리스트로 할당\n",
    "  user_movies = trainset.ur[user_id]\n",
    "  seen_movie_ids = [movie_id for (movie_id, _) in user_movies]\n",
    "  all_movie_ids = set()\n",
    "  for user_id, movie_rating_list in trainset.ur.items() :\n",
    "    movie_ids = [movie_id for (movie_id, _) in movie_rating_list]\n",
    "    all_movie_ids.update(movie_ids)\n",
    "    \n",
    "    #모든 영화들 중 유저가 본 movie_id를 제외한 나머지\n",
    "    unseen_movie_ids = [movie for movie in all_movie_ids if movie not in seen_movie_ids]\n",
    "    return unseen_movie_ids"
   ]
  },
  {
   "cell_type": "code",
   "execution_count": null,
   "metadata": {},
   "outputs": [],
   "source": [
    "def recommend_movie_by_surprise(algo, user_id, unseen_movie_ids, top_n = 20) :\n",
    "  prediction = [algo.predict(str(user_id), str(movie_id)) for movie_id in unseen_movie_ids]\n",
    "\n",
    "  def sortkey_est(pred) :\n",
    "    return pred.est\n",
    "  \n",
    "  prediction.sort(key = sortkey_est, reverse = True)\n",
    "  top_predictions = prediction[:top_n]\n",
    "\n",
    "  top_movie_ids = [int(pred.iid) for pred in top_predictions]\n",
    "  top_movie_ratings = [pred.est for pred in top_predictions]\n",
    "\n",
    "  top_movie_preds = [(ids, rating) for ids, rating in zip(top_movie_ids, top_movie_ratings)]\n",
    "\n",
    "  return top_movie_preds\n"
   ]
  },
  {
   "cell_type": "code",
   "execution_count": 76,
   "metadata": {},
   "outputs": [
    {
     "data": {
      "text/plain": [
       "[(43, 8.1615)]"
      ]
     },
     "execution_count": 76,
     "metadata": {},
     "output_type": "execute_result"
    }
   ],
   "source": [
    "unseen_list_4 = get_unseen_surprise(4)\n",
    "unseen_list_4\n",
    "\n",
    "top_movies_preds = recommend_movie_by_surprise(algo, 4, unseen_list_4, top_n = 20)\n",
    "top_movies_preds"
   ]
  },
  {
   "cell_type": "code",
   "execution_count": 77,
   "metadata": {},
   "outputs": [
    {
     "name": "stdout",
     "output_type": "stream",
     "text": [
      "* 추천 영화 이름 : 43\n",
      "* 해당 영화의 예측 평점 :  8.1615\n"
     ]
    }
   ],
   "source": [
    "for top_movie in top_movies_preds :\n",
    "  print('* 추천 영화 이름 :', top_movie[0])\n",
    "  print('* 해당 영화의 예측 평점 : ', top_movie[1])"
   ]
  },
  {
   "cell_type": "markdown",
   "metadata": {},
   "source": [
    "클러스터링"
   ]
  },
  {
   "cell_type": "code",
   "execution_count": null,
   "metadata": {},
   "outputs": [],
   "source": [
    "import pandas as pd\n",
    "import numpy as np\n",
    "from sklearn.cluster import KMeans\n",
    "from sklearn.preprocessing import StandardScaler\n",
    "from sklearn.metrics import mean_squared_error\n",
    "from math import sqrt\n",
    "\n",
    "# 데이터 로드 및 전처리\n",
    "df = pd.read_csv('../df.csv')\n",
    "df = df[['user_id', 'movie_id', 'rating']]\n",
    "df = df[:20000]\n",
    "\n",
    "# 사용자-아이템 평점 행렬 생성\n",
    "ratings_matrix = df.pivot(index='user_id', columns='movie_id', values='rating').fillna(0)\n",
    "\n",
    "# 데이터 스케일링\n",
    "scaler = StandardScaler()\n",
    "scaled_ratings_matrix = scaler.fit_transform(ratings_matrix.values)\n",
    "\n",
    "# K-Means 클러스터링\n",
    "num_clusters = 10\n",
    "kmeans = KMeans(n_clusters=num_clusters, random_state=0)\n",
    "user_clusters = kmeans.fit_predict(scaled_ratings_matrix)\n",
    "\n",
    "# RMSE 계산 함수\n",
    "def calculate_rmse(original_matrix, predicted_matrix):\n",
    "    mask = original_matrix != 0\n",
    "    return sqrt(mean_squared_error(original_matrix[mask], predicted_matrix[mask]))\n",
    "\n",
    "# 클러스터 평균을 사용한 예상 평점 행렬 계산\n",
    "cluster_means = np.zeros_like(ratings_matrix.values)\n",
    "for cluster in range(num_clusters):\n",
    "    cluster_indices = np.where(user_clusters == cluster)[0]\n",
    "    cluster_ratings = ratings_matrix.values[cluster_indices]\n",
    "    cluster_mean = cluster_ratings.mean(axis=0)\n",
    "    for i in cluster_indices:\n",
    "        cluster_means[i] = cluster_mean\n",
    "\n",
    "# RMSE 계산\n",
    "rmse_kmeans = calculate_rmse(ratings_matrix.values, cluster_means)\n",
    "print(f\"K-Means 기반 클러스터링 RMSE: {rmse_kmeans}\")\n",
    "\n",
    "# 추천 함수\n",
    "def recommend_movies_kmeans(user_id, user_clusters, ratings_matrix, n=10):\n",
    "    user_index = ratings_matrix.index.get_loc(user_id)\n",
    "    user_cluster = user_clusters[user_index]\n",
    "    \n",
    "    cluster_indices = np.where(user_clusters == user_cluster)[0]\n",
    "    cluster_ratings = ratings_matrix.values[cluster_indices]\n",
    "    mean_ratings = cluster_ratings.mean(axis=0)\n",
    "    \n",
    "    user_rated_movies = ratings_matrix.loc[user_id][ratings_matrix.loc[user_id] > 0].index\n",
    "    movie_scores = [(ratings_matrix.columns[i], score) for i, score in enumerate(mean_ratings) if ratings_matrix.columns[i] not in user_rated_movies]\n",
    "    movie_scores.sort(key=lambda x: x[1], reverse=True)\n",
    "    \n",
    "    return movie_scores[:n]\n",
    "\n",
    "# 특정 사용자에 대한 추천 영화 출력\n",
    "user_id = 1  # 예시로 사용자 ID 1\n",
    "recommended_movies_kmeans = recommend_movies_kmeans(user_id, user_clusters, ratings_matrix, n=10)\n",
    "print(\"Clustering (K-Means) 추천된 영화 목록:\")\n",
    "for movie_id, score in recommended_movies_kmeans:\n",
    "    print(f\"영화 ID: {movie_id}, 점수: {score}\")"
   ]
  },
  {
   "cell_type": "markdown",
   "metadata": {},
   "source": [
    "하이브리드 light-FM"
   ]
  },
  {
   "cell_type": "code",
   "execution_count": null,
   "metadata": {},
   "outputs": [],
   "source": [
    "from lightfm import LightFM\n",
    "from lightfm.datasets import fetch_movielens\n",
    "from lightfm.evaluation import precision_at_k\n",
    "\n",
    "# Movielens 데이터셋 로드\n",
    "data = fetch_movielens(min_rating=4.0)\n",
    "\n",
    "# LightFM 모델 생성 (WARP 손실 함수 사용)\n",
    "model = LightFM(loss='warp')\n",
    "\n",
    "# 모델 학습\n",
    "model.fit(data['train'], epochs=30, num_threads=2)\n",
    "\n",
    "# 모델 평가\n",
    "train_precision = precision_at_k(model, data['train'], k=5).mean()\n",
    "test_precision = precision_at_k(model, data['test'], k=5).mean()\n",
    "\n",
    "print('Train precision: %.2f' % train_precision)\n",
    "print('Test precision: %.2f' % test_precision)"
   ]
  }
 ],
 "metadata": {
  "kernelspec": {
   "display_name": "base",
   "language": "python",
   "name": "python3"
  },
  "language_info": {
   "codemirror_mode": {
    "name": "ipython",
    "version": 3
   },
   "file_extension": ".py",
   "mimetype": "text/x-python",
   "name": "python",
   "nbconvert_exporter": "python",
   "pygments_lexer": "ipython3",
   "version": "3.11.9"
  }
 },
 "nbformat": 4,
 "nbformat_minor": 2
}
