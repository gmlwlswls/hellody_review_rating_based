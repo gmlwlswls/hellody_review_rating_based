{
 "cells": [
  {
   "cell_type": "code",
   "execution_count": 58,
   "metadata": {},
   "outputs": [],
   "source": [
    "import pandas as pd\n",
    "import numpy as np\n",
    "from surprise import SVD, Dataset, Reader, accuracy, BaselineOnly\n",
    "from surprise.model_selection import GridSearchCV, cross_validate\n",
    "from sklearn.model_selection import train_test_split"
   ]
  },
  {
   "cell_type": "code",
   "execution_count": 41,
   "metadata": {},
   "outputs": [],
   "source": [
    "df_correspond = pd.read_csv('../df_correspond.csv', encoding= 'cp949') #21252 / 26421\n",
    "df_correspond.columns = ['user_id', 'movie_id', 'rating']"
   ]
  },
  {
   "cell_type": "code",
   "execution_count": 42,
   "metadata": {},
   "outputs": [],
   "source": [
    "traindata, testdata = train_test_split(df_correspond, test_size= 0.2, random_state= 42)\n",
    "\n",
    "# Reader 객체 생성 (rating_scale은 평점의 최소값과 최대값을 지정)\n",
    "reader = Reader(rating_scale=(1, 5))\n",
    "\n",
    "# 데이터셋 생성\n",
    "fullset = Dataset.load_from_df(df_correspond[['user_id', 'movie_id', 'rating']], reader)\n",
    "trainset = Dataset.load_from_df(traindata[['user_id', 'movie_id', 'rating']], reader)\n",
    "testset = Dataset.load_from_df(testdata[['user_id', 'movie_id', 'rating']], reader)"
   ]
  },
  {
   "cell_type": "code",
   "execution_count": 43,
   "metadata": {},
   "outputs": [
    {
     "name": "stdout",
     "output_type": "stream",
     "text": [
      "Estimating biases using sgd...\n",
      "Estimating biases using sgd...\n",
      "Estimating biases using sgd...\n",
      "Estimating biases using sgd...\n",
      "Estimating biases using sgd...\n",
      "Estimating biases using sgd...\n",
      "Estimating biases using sgd...\n",
      "Estimating biases using sgd...\n",
      "Estimating biases using sgd...\n",
      "Estimating biases using sgd...\n",
      "Estimating biases using sgd...\n",
      "Estimating biases using sgd...\n",
      "Estimating biases using als...\n",
      "Estimating biases using als...\n",
      "Estimating biases using als...\n",
      "Estimating biases using als...\n",
      "Estimating biases using als...\n",
      "Estimating biases using als...\n",
      "Estimating biases using als...\n",
      "Estimating biases using als...\n",
      "Estimating biases using als...\n",
      "Estimating biases using als...\n",
      "Estimating biases using als...\n",
      "Estimating biases using als...\n",
      "{'bsl_options': {'method': 'sgd', 'reg': 0.05, 'learning_rate': 0.01}}\n",
      "Estimating biases using sgd...\n"
     ]
    },
    {
     "data": {
      "text/plain": [
       "<surprise.prediction_algorithms.baseline_only.BaselineOnly at 0x1e6f8669d50>"
      ]
     },
     "execution_count": 43,
     "metadata": {},
     "output_type": "execute_result"
    }
   ],
   "source": [
    "# 하이퍼파라미터 그리드 설정\n",
    "param_grid = {'bsl_options': {'method': ['sgd', 'als'],\n",
    "                              'reg': [0.05, 0.1], # 과적합 방지를 위한 값으로 클수록 더 강한 정규화\n",
    "                              'learning_rate': [0.001, 0.01]}}\n",
    "\n",
    "gs = GridSearchCV(BaselineOnly, param_grid, measures=['rmse'], cv=3)\n",
    "gs.fit(fullset)\n",
    "print(gs.best_params['rmse'])\n",
    "\n",
    "algo = gs.best_estimator['rmse']\n",
    "trainset = trainset.build_full_trainset()\n",
    "algo.fit(trainset)"
   ]
  },
  {
   "cell_type": "code",
   "execution_count": null,
   "metadata": {},
   "outputs": [],
   "source": [
    "testset = testset.build_full_trainset()\n",
    "testset = testset.build_testset()\n",
    "predictions = algo.test(testset)"
   ]
  },
  {
   "cell_type": "code",
   "execution_count": 56,
   "metadata": {},
   "outputs": [
    {
     "name": "stdout",
     "output_type": "stream",
     "text": [
      "RMSE: 1.1445\n"
     ]
    },
    {
     "data": {
      "text/plain": [
       "1.144454907876286"
      ]
     },
     "execution_count": 56,
     "metadata": {},
     "output_type": "execute_result"
    }
   ],
   "source": [
    "accuracy.rmse(predictions)"
   ]
  },
  {
   "cell_type": "code",
   "execution_count": 54,
   "metadata": {},
   "outputs": [
    {
     "data": {
      "text/html": [
       "<div>\n",
       "<style scoped>\n",
       "    .dataframe tbody tr th:only-of-type {\n",
       "        vertical-align: middle;\n",
       "    }\n",
       "\n",
       "    .dataframe tbody tr th {\n",
       "        vertical-align: top;\n",
       "    }\n",
       "\n",
       "    .dataframe thead th {\n",
       "        text-align: right;\n",
       "    }\n",
       "</style>\n",
       "<table border=\"1\" class=\"dataframe\">\n",
       "  <thead>\n",
       "    <tr style=\"text-align: right;\">\n",
       "      <th></th>\n",
       "      <th>user_id</th>\n",
       "      <th>movie_id</th>\n",
       "      <th>r_ui</th>\n",
       "      <th>est</th>\n",
       "      <th>err</th>\n",
       "    </tr>\n",
       "  </thead>\n",
       "  <tbody>\n",
       "    <tr>\n",
       "      <th>0</th>\n",
       "      <td>5138</td>\n",
       "      <td>191</td>\n",
       "      <td>2.0</td>\n",
       "      <td>3.773635</td>\n",
       "      <td>-1.773635</td>\n",
       "    </tr>\n",
       "    <tr>\n",
       "      <th>1</th>\n",
       "      <td>630</td>\n",
       "      <td>46</td>\n",
       "      <td>5.0</td>\n",
       "      <td>4.775876</td>\n",
       "      <td>0.224124</td>\n",
       "    </tr>\n",
       "    <tr>\n",
       "      <th>2</th>\n",
       "      <td>7032</td>\n",
       "      <td>234</td>\n",
       "      <td>4.0</td>\n",
       "      <td>4.404474</td>\n",
       "      <td>-0.404474</td>\n",
       "    </tr>\n",
       "    <tr>\n",
       "      <th>3</th>\n",
       "      <td>4669</td>\n",
       "      <td>181</td>\n",
       "      <td>1.0</td>\n",
       "      <td>1.857353</td>\n",
       "      <td>-0.857353</td>\n",
       "    </tr>\n",
       "    <tr>\n",
       "      <th>4</th>\n",
       "      <td>8465</td>\n",
       "      <td>308</td>\n",
       "      <td>1.0</td>\n",
       "      <td>2.875510</td>\n",
       "      <td>-1.875510</td>\n",
       "    </tr>\n",
       "    <tr>\n",
       "      <th>...</th>\n",
       "      <td>...</td>\n",
       "      <td>...</td>\n",
       "      <td>...</td>\n",
       "      <td>...</td>\n",
       "      <td>...</td>\n",
       "    </tr>\n",
       "    <tr>\n",
       "      <th>4246</th>\n",
       "      <td>8181</td>\n",
       "      <td>263</td>\n",
       "      <td>5.0</td>\n",
       "      <td>4.563810</td>\n",
       "      <td>0.436190</td>\n",
       "    </tr>\n",
       "    <tr>\n",
       "      <th>4247</th>\n",
       "      <td>5897</td>\n",
       "      <td>207</td>\n",
       "      <td>5.0</td>\n",
       "      <td>3.612555</td>\n",
       "      <td>1.387445</td>\n",
       "    </tr>\n",
       "    <tr>\n",
       "      <th>4248</th>\n",
       "      <td>2123</td>\n",
       "      <td>131</td>\n",
       "      <td>5.0</td>\n",
       "      <td>4.647033</td>\n",
       "      <td>0.352967</td>\n",
       "    </tr>\n",
       "    <tr>\n",
       "      <th>4249</th>\n",
       "      <td>6835</td>\n",
       "      <td>230</td>\n",
       "      <td>5.0</td>\n",
       "      <td>4.881001</td>\n",
       "      <td>0.118999</td>\n",
       "    </tr>\n",
       "    <tr>\n",
       "      <th>4250</th>\n",
       "      <td>3522</td>\n",
       "      <td>66</td>\n",
       "      <td>5.0</td>\n",
       "      <td>4.033489</td>\n",
       "      <td>0.966511</td>\n",
       "    </tr>\n",
       "  </tbody>\n",
       "</table>\n",
       "<p>4251 rows × 5 columns</p>\n",
       "</div>"
      ],
      "text/plain": [
       "      user_id  movie_id  r_ui       est       err\n",
       "0        5138       191   2.0  3.773635 -1.773635\n",
       "1         630        46   5.0  4.775876  0.224124\n",
       "2        7032       234   4.0  4.404474 -0.404474\n",
       "3        4669       181   1.0  1.857353 -0.857353\n",
       "4        8465       308   1.0  2.875510 -1.875510\n",
       "...       ...       ...   ...       ...       ...\n",
       "4246     8181       263   5.0  4.563810  0.436190\n",
       "4247     5897       207   5.0  3.612555  1.387445\n",
       "4248     2123       131   5.0  4.647033  0.352967\n",
       "4249     6835       230   5.0  4.881001  0.118999\n",
       "4250     3522        66   5.0  4.033489  0.966511\n",
       "\n",
       "[4251 rows x 5 columns]"
      ]
     },
     "execution_count": 54,
     "metadata": {},
     "output_type": "execute_result"
    }
   ],
   "source": [
    "# 예측 결과 출력\n",
    "# for uid, iid, true_r, est, _ in predictions[:10]:\n",
    "#     print(f\"User {uid} -> Item {iid}: {true_r} -> {est:.2f}\")\n",
    "\n",
    "predictions_df = pd.DataFrame(predictions, columns=['user_id', 'movie_id', 'r_ui', 'est', 'details'])\n",
    "predictions_df = predictions_df[['user_id', 'movie_id', 'r_ui', 'est']]\n",
    "\n",
    "predictions_df['err'] = predictions_df['r_ui'] - predictions_df['est']\n",
    "predictions_df\n"
   ]
  },
  {
   "cell_type": "code",
   "execution_count": 60,
   "metadata": {},
   "outputs": [
    {
     "name": "stdout",
     "output_type": "stream",
     "text": [
      "Estimating biases using sgd...\n",
      "Estimating biases using sgd...\n",
      "Estimating biases using sgd...\n",
      "Estimating biases using sgd...\n",
      "Estimating biases using sgd...\n",
      "Evaluating RMSE, MAE of algorithm BaselineOnly on 5 split(s).\n",
      "\n",
      "                  Fold 1  Fold 2  Fold 3  Fold 4  Fold 5  Mean    Std     \n",
      "RMSE (testset)    1.1663  1.1606  1.1413  1.1379  1.1606  1.1533  0.0115  \n",
      "MAE (testset)     0.8438  0.8312  0.8255  0.8232  0.8288  0.8305  0.0072  \n",
      "Fit time          0.06    0.05    0.05    0.03    0.04    0.05    0.01    \n",
      "Test time         0.01    0.02    0.01    0.02    0.01    0.01    0.01    \n"
     ]
    },
    {
     "data": {
      "text/plain": [
       "{'test_rmse': array([1.16630878, 1.16062076, 1.14127301, 1.13785836, 1.16056849]),\n",
       " 'test_mae': array([0.84382296, 0.83121152, 0.82552067, 0.82316695, 0.82876908]),\n",
       " 'fit_time': (0.06001853942871094,\n",
       "  0.04621267318725586,\n",
       "  0.05458331108093262,\n",
       "  0.0328371524810791,\n",
       "  0.037932634353637695),\n",
       " 'test_time': (0.009867191314697266,\n",
       "  0.02207016944885254,\n",
       "  0.014204263687133789,\n",
       "  0.018918991088867188,\n",
       "  0.007998466491699219)}"
      ]
     },
     "execution_count": 60,
     "metadata": {},
     "output_type": "execute_result"
    }
   ],
   "source": [
    "cross_validate(algo, fullset, measures=['RMSE', 'MAE'], cv=5, verbose=True)"
   ]
  },
  {
   "cell_type": "code",
   "execution_count": 63,
   "metadata": {},
   "outputs": [
    {
     "data": {
      "image/png": "[encoded data removed]",
      "text/plain": [
       "<Figure size 1000x600 with 1 Axes>"
      ]
     },
     "metadata": {},
     "output_type": "display_data"
    }
   ],
   "source": [
    "import matplotlib.pyplot as plt\n",
    "\n",
    "# # 예측값과 실제값의 산포도 시각화\n",
    "# plt.figure(figsize=(10, 6))\n",
    "# plt.scatter(predictions_df['r_ui'], predictions_df['est'], alpha=0.5)\n",
    "# plt.plot([1, 5], [1, 5], color='red', linestyle='--')\n",
    "# plt.xlabel('Actual Rating')\n",
    "# plt.ylabel('Predicted Rating')\n",
    "# plt.title('Actual vs Predicted Ratings')\n",
    "# plt.show()\n",
    "\n",
    "# 오차 히스토그램 시각화\n",
    "plt.figure(figsize=(10, 6))\n",
    "plt.hist(predictions_df['err'], bins=20, edgecolor='gray', color= 'black')\n",
    "plt.xlabel('Prediction Error')\n",
    "plt.ylabel('Frequency')\n",
    "plt.title('Prediction Error Distribution')\n",
    "plt.show()"
   ]
  },
  {
   "cell_type": "code",
   "execution_count": 45,
   "metadata": {},
   "outputs": [],
   "source": [
    "def get_top_n_recommendations(algo, user_movie_rating_df, user_id, n=20):\n",
    "    # 모든 영화 목록\n",
    "    all_movie_ids = user_movie_rating_df['movie_id'].unique()\n",
    "    \n",
    "    # 사용자가 이미 본 영화 목록\n",
    "    seen_movie_ids = user_movie_rating_df[user_movie_rating_df['user_id'] == user_id]['movie_id'].unique()\n",
    "    \n",
    "    # 사용자가 보지 않은 영화 목록\n",
    "    unseen_movie_ids = [movie_id for movie_id in all_movie_ids if movie_id not in seen_movie_ids]\n",
    "    \n",
    "    # 사용자가 보지 않은 영화들에 대한 예측 평점 계산\n",
    "    predictions = [algo.predict(user_id, movie_id) for movie_id in unseen_movie_ids]\n",
    "    \n",
    "    # 예측 평점이 높은 순으로 정렬하여 상위 n개 영화 추천\n",
    "    top_n_predictions = sorted(predictions, key=lambda x: x.est, reverse=True)[:n]\n",
    "    \n",
    "    # 추천 영화 ID 리스트 추출\n",
    "    top_n_movie_ids = [pred.iid for pred in top_n_predictions]\n",
    "\n",
    "    return top_n_movie_ids"
   ]
  },
  {
   "cell_type": "code",
   "execution_count": 46,
   "metadata": {},
   "outputs": [
    {
     "name": "stdout",
     "output_type": "stream",
     "text": [
      "사용자에게 추천할 영화 ID 리스트: [162, 48, 61, 59, 16, 230, 203, 19, 71, 50, 36, 113, 35, 34, 98, 86, 168, 81, 23, 42]\n"
     ]
    }
   ],
   "source": [
    "# 사용자에게 영화 추천하기\n",
    "user_id = 5138  # 추천을 받을 사용자의 ID\n",
    "num_recommendations = 20  # 추천할 영화의 수\n",
    "recommended_movie_ids = get_top_n_recommendations(algo, df_correspond, user_id, num_recommendations)\n",
    "print(\"사용자에게 추천할 영화 ID 리스트:\", recommended_movie_ids)"
   ]
  },
  {
   "cell_type": "markdown",
   "metadata": {},
   "source": [
    "SVD"
   ]
  },
  {
   "cell_type": "code",
   "execution_count": 64,
   "metadata": {},
   "outputs": [],
   "source": [
    "from surprise import SVD"
   ]
  },
  {
   "cell_type": "code",
   "execution_count": 69,
   "metadata": {},
   "outputs": [
    {
     "name": "stdout",
     "output_type": "stream",
     "text": [
      "Best Score : 1.1547685328332817\n",
      "Best Parameters : {'n_factors': 75, 'lr_all': 0.005, 'reg_all': 0.05}\n"
     ]
    }
   ],
   "source": [
    "param_grid = {'n_factors': [75, 80, 85], 'lr_all': [0.01, 0.005, 0.003], 'reg_all': [0.07, 0.05, 0.04]} \n",
    "gs = GridSearchCV(algo_class=SVD, measures=['RMSE'], param_grid=param_grid) \n",
    "gs.fit(fullset) \n",
    "\n",
    "print('Best Score :', gs.best_score['rmse']) \n",
    "print('Best Parameters :', gs.best_params['rmse']) \n"
   ]
  },
  {
   "cell_type": "code",
   "execution_count": 71,
   "metadata": {},
   "outputs": [
    {
     "data": {
      "text/plain": [
       "<surprise.prediction_algorithms.matrix_factorization.SVD at 0x1e6fdb05410>"
      ]
     },
     "execution_count": 71,
     "metadata": {},
     "output_type": "execute_result"
    }
   ],
   "source": [
    "algo_svm = gs.best_estimator['rmse']\n",
    "algo_svm.fit(trainset)"
   ]
  },
  {
   "cell_type": "code",
   "execution_count": 73,
   "metadata": {},
   "outputs": [],
   "source": [
    "# testset = testset.build_full_trainset()\n",
    "# testset = testset.build_testset()\n",
    "predictions_svm = algo_svm.test(testset)"
   ]
  },
  {
   "cell_type": "code",
   "execution_count": 74,
   "metadata": {},
   "outputs": [
    {
     "name": "stdout",
     "output_type": "stream",
     "text": [
      "RMSE: 1.1483\n"
     ]
    },
    {
     "data": {
      "text/plain": [
       "1.1482707164235222"
      ]
     },
     "execution_count": 74,
     "metadata": {},
     "output_type": "execute_result"
    }
   ],
   "source": [
    "accuracy.rmse(predictions_svm)"
   ]
  },
  {
   "cell_type": "code",
   "execution_count": 75,
   "metadata": {},
   "outputs": [
    {
     "data": {
      "text/html": [
       "<div>\n",
       "<style scoped>\n",
       "    .dataframe tbody tr th:only-of-type {\n",
       "        vertical-align: middle;\n",
       "    }\n",
       "\n",
       "    .dataframe tbody tr th {\n",
       "        vertical-align: top;\n",
       "    }\n",
       "\n",
       "    .dataframe thead th {\n",
       "        text-align: right;\n",
       "    }\n",
       "</style>\n",
       "<table border=\"1\" class=\"dataframe\">\n",
       "  <thead>\n",
       "    <tr style=\"text-align: right;\">\n",
       "      <th></th>\n",
       "      <th>user_id</th>\n",
       "      <th>movie_id</th>\n",
       "      <th>r_ui</th>\n",
       "      <th>est</th>\n",
       "      <th>err</th>\n",
       "    </tr>\n",
       "  </thead>\n",
       "  <tbody>\n",
       "    <tr>\n",
       "      <th>0</th>\n",
       "      <td>5138</td>\n",
       "      <td>191</td>\n",
       "      <td>2.0</td>\n",
       "      <td>3.773635</td>\n",
       "      <td>-1.773635</td>\n",
       "    </tr>\n",
       "    <tr>\n",
       "      <th>1</th>\n",
       "      <td>630</td>\n",
       "      <td>46</td>\n",
       "      <td>5.0</td>\n",
       "      <td>4.775876</td>\n",
       "      <td>0.224124</td>\n",
       "    </tr>\n",
       "    <tr>\n",
       "      <th>2</th>\n",
       "      <td>7032</td>\n",
       "      <td>234</td>\n",
       "      <td>4.0</td>\n",
       "      <td>4.404474</td>\n",
       "      <td>-0.404474</td>\n",
       "    </tr>\n",
       "    <tr>\n",
       "      <th>3</th>\n",
       "      <td>4669</td>\n",
       "      <td>181</td>\n",
       "      <td>1.0</td>\n",
       "      <td>1.857353</td>\n",
       "      <td>-0.857353</td>\n",
       "    </tr>\n",
       "    <tr>\n",
       "      <th>4</th>\n",
       "      <td>8465</td>\n",
       "      <td>308</td>\n",
       "      <td>1.0</td>\n",
       "      <td>2.875510</td>\n",
       "      <td>-1.875510</td>\n",
       "    </tr>\n",
       "    <tr>\n",
       "      <th>...</th>\n",
       "      <td>...</td>\n",
       "      <td>...</td>\n",
       "      <td>...</td>\n",
       "      <td>...</td>\n",
       "      <td>...</td>\n",
       "    </tr>\n",
       "    <tr>\n",
       "      <th>4246</th>\n",
       "      <td>8181</td>\n",
       "      <td>263</td>\n",
       "      <td>5.0</td>\n",
       "      <td>4.563810</td>\n",
       "      <td>0.436190</td>\n",
       "    </tr>\n",
       "    <tr>\n",
       "      <th>4247</th>\n",
       "      <td>5897</td>\n",
       "      <td>207</td>\n",
       "      <td>5.0</td>\n",
       "      <td>3.612555</td>\n",
       "      <td>1.387445</td>\n",
       "    </tr>\n",
       "    <tr>\n",
       "      <th>4248</th>\n",
       "      <td>2123</td>\n",
       "      <td>131</td>\n",
       "      <td>5.0</td>\n",
       "      <td>4.647033</td>\n",
       "      <td>0.352967</td>\n",
       "    </tr>\n",
       "    <tr>\n",
       "      <th>4249</th>\n",
       "      <td>6835</td>\n",
       "      <td>230</td>\n",
       "      <td>5.0</td>\n",
       "      <td>4.881001</td>\n",
       "      <td>0.118999</td>\n",
       "    </tr>\n",
       "    <tr>\n",
       "      <th>4250</th>\n",
       "      <td>3522</td>\n",
       "      <td>66</td>\n",
       "      <td>5.0</td>\n",
       "      <td>4.033489</td>\n",
       "      <td>0.966511</td>\n",
       "    </tr>\n",
       "  </tbody>\n",
       "</table>\n",
       "<p>4251 rows × 5 columns</p>\n",
       "</div>"
      ],
      "text/plain": [
       "      user_id  movie_id  r_ui       est       err\n",
       "0        5138       191   2.0  3.773635 -1.773635\n",
       "1         630        46   5.0  4.775876  0.224124\n",
       "2        7032       234   4.0  4.404474 -0.404474\n",
       "3        4669       181   1.0  1.857353 -0.857353\n",
       "4        8465       308   1.0  2.875510 -1.875510\n",
       "...       ...       ...   ...       ...       ...\n",
       "4246     8181       263   5.0  4.563810  0.436190\n",
       "4247     5897       207   5.0  3.612555  1.387445\n",
       "4248     2123       131   5.0  4.647033  0.352967\n",
       "4249     6835       230   5.0  4.881001  0.118999\n",
       "4250     3522        66   5.0  4.033489  0.966511\n",
       "\n",
       "[4251 rows x 5 columns]"
      ]
     },
     "execution_count": 75,
     "metadata": {},
     "output_type": "execute_result"
    }
   ],
   "source": [
    "# 예측 결과 출력\n",
    "# for uid, iid, true_r, est, _ in predictions[:10]:\n",
    "#     print(f\"User {uid} -> Item {iid}: {true_r} -> {est:.2f}\")\n",
    "\n",
    "predictions_svm_df = pd.DataFrame(predictions_svm, columns=['user_id', 'movie_id', 'r_ui', 'est', 'details'])\n",
    "predictions_svm_df = predictions_df[['user_id', 'movie_id', 'r_ui', 'est']]\n",
    "\n",
    "predictions_svm_df['err'] = predictions_svm_df['r_ui'] - predictions_svm_df['est']\n",
    "predictions_svm_df\n"
   ]
  },
  {
   "cell_type": "code",
   "execution_count": 76,
   "metadata": {},
   "outputs": [
    {
     "name": "stdout",
     "output_type": "stream",
     "text": [
      "Estimating biases using sgd...\n",
      "Estimating biases using sgd...\n",
      "Estimating biases using sgd...\n",
      "Estimating biases using sgd...\n",
      "Estimating biases using sgd...\n",
      "Evaluating RMSE, MAE of algorithm BaselineOnly on 5 split(s).\n",
      "\n",
      "                  Fold 1  Fold 2  Fold 3  Fold 4  Fold 5  Mean    Std     \n",
      "RMSE (testset)    1.1694  1.1504  1.1421  1.1527  1.1525  1.1534  0.0089  \n",
      "MAE (testset)     0.8374  0.8277  0.8275  0.8328  0.8323  0.8315  0.0037  \n",
      "Fit time          0.06    0.05    0.05    0.06    0.05    0.06    0.01    \n",
      "Test time         0.00    0.01    0.00    0.01    0.02    0.01    0.01    \n"
     ]
    },
    {
     "data": {
      "text/plain": [
       "{'test_rmse': array([1.16937682, 1.1503886 , 1.14210851, 1.15270456, 1.15254226]),\n",
       " 'test_mae': array([0.83742089, 0.82766448, 0.82746224, 0.83284535, 0.83233751]),\n",
       " 'fit_time': (0.06195664405822754,\n",
       "  0.05120658874511719,\n",
       "  0.04989361763000488,\n",
       "  0.06417512893676758,\n",
       "  0.049897193908691406),\n",
       " 'test_time': (0.003735065460205078,\n",
       "  0.014258861541748047,\n",
       "  0.0,\n",
       "  0.005721569061279297,\n",
       "  0.01577472686767578)}"
      ]
     },
     "execution_count": 76,
     "metadata": {},
     "output_type": "execute_result"
    }
   ],
   "source": [
    "cross_validate(algo, fullset, measures=['RMSE', 'MAE'], cv=5, verbose=True)"
   ]
  },
  {
   "cell_type": "code",
   "execution_count": 77,
   "metadata": {},
   "outputs": [
    {
     "data": {
      "image/png": "[encoded data removed]",
      "text/plain": [
       "<Figure size 1000x600 with 1 Axes>"
      ]
     },
     "metadata": {},
     "output_type": "display_data"
    }
   ],
   "source": [
    "# 오차 히스토그램 시각화\n",
    "plt.figure(figsize=(10, 6))\n",
    "plt.hist(predictions_svm_df['err'], bins=20, edgecolor='gray', color= 'black')\n",
    "plt.xlabel('Prediction Error')\n",
    "plt.ylabel('Frequency')\n",
    "plt.title('Prediction Error Distribution')\n",
    "plt.show()"
   ]
  },
  {
   "cell_type": "code",
   "execution_count": 78,
   "metadata": {},
   "outputs": [
    {
     "name": "stdout",
     "output_type": "stream",
     "text": [
      "사용자에게 추천할 영화 ID 리스트: [16, 61, 162, 48, 203, 264, 35, 36, 34, 113, 230, 409, 71, 139, 59, 86, 46, 50, 289, 410]\n"
     ]
    }
   ],
   "source": [
    "# 사용자에게 영화 추천하기\n",
    "user_id = 5138  # 추천을 받을 사용자의 ID\n",
    "num_recommendations = 20  # 추천할 영화의 수\n",
    "recommended_movie_ids = get_top_n_recommendations(algo, df_correspond, user_id, num_recommendations)\n",
    "print(\"사용자에게 추천할 영화 ID 리스트:\", recommended_movie_ids)"
   ]
  }
 ],
 "metadata": {
  "kernelspec": {
   "display_name": "base",
   "language": "python",
   "name": "python3"
  },
  "language_info": {
   "codemirror_mode": {
    "name": "ipython",
    "version": 3
   },
   "file_extension": ".py",
   "mimetype": "text/x-python",
   "name": "python",
   "nbconvert_exporter": "python",
   "pygments_lexer": "ipython3",
   "version": "3.11.9"
  }
 },
 "nbformat": 4,
 "nbformat_minor": 2
}
