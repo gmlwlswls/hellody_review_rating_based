{
 "cells": [
  {
   "cell_type": "code",
   "execution_count": 2,
   "metadata": {},
   "outputs": [],
   "source": [
    "import pandas as pd\n",
    "import json\n",
    "import os"
   ]
  },
  {
   "cell_type": "code",
   "execution_count": 3,
   "metadata": {},
   "outputs": [
    {
     "name": "stdout",
     "output_type": "stream",
     "text": [
      "         author movie_id                                             review  \\\n",
      "0      tree****      100  다니엘 크레이그의 블루 컬러 연기도 훌륭하다. 얌전한 고양이로 사시던 어머님.......   \n",
      "1      zxc1****      100  사랑에 눈을 뜨면서 살아있음을 느끼는 노년의 엄마 이야기는 중반부까지 잘 공감되지만...   \n",
      "2      choc****      100                          자연이그대를데려가더라도 눈물한방울로외면하기를.   \n",
      "3      phss****      100  나이 먹어도,, 인간의 본능은 살아 있다.. 젊음과 늙음, 도시와시골, 현재와 과거,,,   \n",
      "4      cddu****      100  내 엄마의 이야기로. 나아가 훗날 내 이야기로 상상하며 보게되는 영화. 엄마이지만 ...   \n",
      "...         ...      ...                                                ...   \n",
      "26581  dlgo****       99                                   신약... 이해안되는 살인방법   \n",
      "26582  ci30****       99                                          어이가 없는 내용   \n",
      "26583  govu****       99            일본애니와 똑같은 스토리의 (범인까지 --;;;) 한국영화 뭐하자는..   \n",
      "26584  choo****       99      박해일때문에 10점준다.근데 진짜 시나리오 발로썻나. 하나부터 열까지 다 쌩뚱맞다   \n",
      "26585  toto****       99                                     할말을 잃게 만드는 영화!   \n",
      "\n",
      "      rating  \n",
      "0          8  \n",
      "1          5  \n",
      "2         10  \n",
      "3          7  \n",
      "4         10  \n",
      "...      ...  \n",
      "26581      6  \n",
      "26582      6  \n",
      "26583      1  \n",
      "26584     10  \n",
      "26585      1  \n",
      "\n",
      "[26586 rows x 4 columns]\n"
     ]
    }
   ],
   "source": [
    "# 데이터를 저장할 빈 리스트 생성\n",
    "data = []\n",
    "\n",
    "# 파일들이 있는 디렉토리 경로\n",
    "directory = './01. data/'\n",
    "\n",
    "# 모든 JSON 파일에 대해 반복\n",
    "for filename in os.listdir(directory):\n",
    "    if filename.endswith(\".json\"):\n",
    "        filepath = os.path.join(directory, filename)\n",
    "        \n",
    "        # 파일 열기\n",
    "        with open(filepath, 'r', encoding='utf-8') as file:\n",
    "            json_data = json.load(file)\n",
    "            \n",
    "            # 각 리뷰에 대해 반복\n",
    "            for review in json_data:\n",
    "                # 필요한 정보 추출\n",
    "                author = review['author']\n",
    "                movie_id = review['movie_id']\n",
    "                review_text = review['review']\n",
    "                rating = review['rating']\n",
    "                \n",
    "                # 추출한 정보를 딕셔너리로 저장\n",
    "                data.append({'author': author,\n",
    "                             'movie_id': movie_id,\n",
    "                             'review': review_text,\n",
    "                             'rating': rating})\n",
    "\n",
    "# 데이터프레임 생성\n",
    "df = pd.DataFrame(data)\n",
    "\n",
    "# 데이터프레임 출력\n",
    "print(df) #26586"
   ]
  },
  {
   "cell_type": "code",
   "execution_count": 4,
   "metadata": {},
   "outputs": [
    {
     "name": "stdout",
     "output_type": "stream",
     "text": [
      "author\n",
      "love****    115\n",
      "dlax****     80\n",
      "tear****     80\n",
      "blue****     79\n",
      "terr****     76\n",
      "           ... \n",
      "pjc8****      1\n",
      "gilf****      1\n",
      "esse****      1\n",
      "lsy9****      1\n",
      "govu****      1\n",
      "Name: count, Length: 13022, dtype: int64\n"
     ]
    }
   ],
   "source": [
    "# 각 author의 출현 횟수 세기\n",
    "author_counts = df['author'].value_counts()\n",
    "print(author_counts)"
   ]
  },
  {
   "cell_type": "code",
   "execution_count": 5,
   "metadata": {},
   "outputs": [],
   "source": [
    "# 중복되지 않는 author 목록 얻기\n",
    "unique_authors = df['author'].unique()\n",
    "\n",
    "# 각 author에 새로운 번호 부여\n",
    "author_id_mapping = {author: i + 1 for i, author in enumerate(unique_authors)}\n",
    "\n",
    "# 새로운 번호로 매핑하여 unique_author_id 열 생성\n",
    "df['user_id'] = df['author'].map(author_id_mapping)"
   ]
  },
  {
   "cell_type": "code",
   "execution_count": 7,
   "metadata": {},
   "outputs": [],
   "source": [
    "df = df[['user_id', 'movie_id', 'review', 'rating']]\n",
    "df.to_csv('./review_rating_hellody.csv', index= False, encoding= 'cp949')"
   ]
  }
 ],
 "metadata": {
  "kernelspec": {
   "display_name": "base",
   "language": "python",
   "name": "python3"
  },
  "language_info": {
   "codemirror_mode": {
    "name": "ipython",
    "version": 3
   },
   "file_extension": ".py",
   "mimetype": "text/x-python",
   "name": "python",
   "nbconvert_exporter": "python",
   "pygments_lexer": "ipython3",
   "version": "3.11.9"
  }
 },
 "nbformat": 4,
 "nbformat_minor": 2
}
